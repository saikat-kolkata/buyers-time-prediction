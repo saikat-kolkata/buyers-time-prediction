{
 "cells": [
  {
   "cell_type": "markdown",
   "metadata": {},
   "source": [
    "## Buyer's Time Prediction Challenge\n",
    "\n",
    "<B> Problem Statement :</b> Buyers spend a significant amount of time surfing an e-commerce store, since the pandemic the e-commerce has seen a boom in the number of users across the domains. In the meantime, the store owners are also planning to attract customers using various algorithms to leverage customer behavior patterns\n",
    "\n",
    "Tracking customer activity is also a great way of understanding customer behavior and figuring out what can actually be done to serve them better. Machine learning and AI has already played a significant role in designing various recommendation engines to lure customers by predicting their buying patterns\n",
    "\n",
    "In this competition provided the visitor's session data, we are challenging the Machinehack community to come up with a regression algorithm to predict the time a buyer will spend on the platform.\n",
    "\n",
    "<b>The submission will be evaluated using the RMSLE metric"
   ]
  },
  {
   "cell_type": "markdown",
   "metadata": {},
   "source": [
    "## EDA"
   ]
  },
  {
   "cell_type": "code",
   "execution_count": 1,
   "metadata": {},
   "outputs": [],
   "source": [
    "#import libraries\n",
    "\n",
    "import numpy as np\n",
    "import pandas as pd\n",
    "import matplotlib.pyplot as plt\n",
    "import seaborn as sns"
   ]
  },
  {
   "cell_type": "code",
   "execution_count": 2,
   "metadata": {},
   "outputs": [],
   "source": [
    "#Enable max rows and column in display\n",
    "\n",
    "pd.pandas.set_option('display.max_rows', None)\n",
    "pd.pandas.set_option('display.max_columns', None)"
   ]
  },
  {
   "cell_type": "code",
   "execution_count": 3,
   "metadata": {},
   "outputs": [
    {
     "data": {
      "text/html": [
       "<div>\n",
       "<style scoped>\n",
       "    .dataframe tbody tr th:only-of-type {\n",
       "        vertical-align: middle;\n",
       "    }\n",
       "\n",
       "    .dataframe tbody tr th {\n",
       "        vertical-align: top;\n",
       "    }\n",
       "\n",
       "    .dataframe thead th {\n",
       "        text-align: right;\n",
       "    }\n",
       "</style>\n",
       "<table border=\"1\" class=\"dataframe\">\n",
       "  <thead>\n",
       "    <tr style=\"text-align: right;\">\n",
       "      <th></th>\n",
       "      <th>session_id</th>\n",
       "      <th>session_number</th>\n",
       "      <th>client_agent</th>\n",
       "      <th>device_details</th>\n",
       "      <th>date</th>\n",
       "      <th>purchased</th>\n",
       "      <th>added_in_cart</th>\n",
       "      <th>checked_out</th>\n",
       "      <th>time_spent</th>\n",
       "    </tr>\n",
       "  </thead>\n",
       "  <tbody>\n",
       "    <tr>\n",
       "      <th>0</th>\n",
       "      <td>57f879e70d3c5fc2a98102d64c9fd84e</td>\n",
       "      <td>715</td>\n",
       "      <td>Mozilla/5.0 (Windows NT 6.1; WOW64) AppleWebKi...</td>\n",
       "      <td>Desktop - Chrome</td>\n",
       "      <td>2020-01-22</td>\n",
       "      <td>1</td>\n",
       "      <td>0</td>\n",
       "      <td>0</td>\n",
       "      <td>236.886</td>\n",
       "    </tr>\n",
       "    <tr>\n",
       "      <th>1</th>\n",
       "      <td>a5442b0c7c33d0a811e7661e556b2de8</td>\n",
       "      <td>55</td>\n",
       "      <td>Product/8.0 iPhone/8.1.3</td>\n",
       "      <td>iPhone - iOS</td>\n",
       "      <td>2020-02-27</td>\n",
       "      <td>1</td>\n",
       "      <td>0</td>\n",
       "      <td>0</td>\n",
       "      <td>1277.455</td>\n",
       "    </tr>\n",
       "    <tr>\n",
       "      <th>2</th>\n",
       "      <td>305cb1486ed8610c00b37007926cb2c4</td>\n",
       "      <td>11</td>\n",
       "      <td>Mozilla/5.0 (iPhone; CPU iPhone OS 7_1_2 like ...</td>\n",
       "      <td>iPhone - MobileWeb</td>\n",
       "      <td>2019-08-01</td>\n",
       "      <td>0</td>\n",
       "      <td>0</td>\n",
       "      <td>0</td>\n",
       "      <td>21.704</td>\n",
       "    </tr>\n",
       "    <tr>\n",
       "      <th>3</th>\n",
       "      <td>f2c1ecc9993f0071df91ba178450498c</td>\n",
       "      <td>2794</td>\n",
       "      <td>Mozilla/5.0 (compatible; MSIE 9.0; Windows NT ...</td>\n",
       "      <td>Desktop - IE</td>\n",
       "      <td>2019-12-30</td>\n",
       "      <td>0</td>\n",
       "      <td>1</td>\n",
       "      <td>0</td>\n",
       "      <td>455.201</td>\n",
       "    </tr>\n",
       "    <tr>\n",
       "      <th>4</th>\n",
       "      <td>e460830ae295e55d2216ebdc761ab9a6</td>\n",
       "      <td>3674</td>\n",
       "      <td>Mozilla/5.0 (iPhone; CPU iPhone OS 7_1_1 like ...</td>\n",
       "      <td>iPhone - Web</td>\n",
       "      <td>2019-09-10</td>\n",
       "      <td>0</td>\n",
       "      <td>0</td>\n",
       "      <td>0</td>\n",
       "      <td>1164.877</td>\n",
       "    </tr>\n",
       "  </tbody>\n",
       "</table>\n",
       "</div>"
      ],
      "text/plain": [
       "                         session_id  session_number  \\\n",
       "0  57f879e70d3c5fc2a98102d64c9fd84e             715   \n",
       "1  a5442b0c7c33d0a811e7661e556b2de8              55   \n",
       "2  305cb1486ed8610c00b37007926cb2c4              11   \n",
       "3  f2c1ecc9993f0071df91ba178450498c            2794   \n",
       "4  e460830ae295e55d2216ebdc761ab9a6            3674   \n",
       "\n",
       "                                        client_agent      device_details  \\\n",
       "0  Mozilla/5.0 (Windows NT 6.1; WOW64) AppleWebKi...    Desktop - Chrome   \n",
       "1                           Product/8.0 iPhone/8.1.3        iPhone - iOS   \n",
       "2  Mozilla/5.0 (iPhone; CPU iPhone OS 7_1_2 like ...  iPhone - MobileWeb   \n",
       "3  Mozilla/5.0 (compatible; MSIE 9.0; Windows NT ...        Desktop - IE   \n",
       "4  Mozilla/5.0 (iPhone; CPU iPhone OS 7_1_1 like ...        iPhone - Web   \n",
       "\n",
       "         date  purchased  added_in_cart  checked_out  time_spent  \n",
       "0  2020-01-22          1              0            0     236.886  \n",
       "1  2020-02-27          1              0            0    1277.455  \n",
       "2  2019-08-01          0              0            0      21.704  \n",
       "3  2019-12-30          0              1            0     455.201  \n",
       "4  2019-09-10          0              0            0    1164.877  "
      ]
     },
     "execution_count": 3,
     "metadata": {},
     "output_type": "execute_result"
    }
   ],
   "source": [
    "#load train data and show it\n",
    "df = pd.read_csv('Train.csv')\n",
    "df.head()"
   ]
  },
  {
   "cell_type": "code",
   "execution_count": 4,
   "metadata": {},
   "outputs": [
    {
     "data": {
      "text/html": [
       "<div>\n",
       "<style scoped>\n",
       "    .dataframe tbody tr th:only-of-type {\n",
       "        vertical-align: middle;\n",
       "    }\n",
       "\n",
       "    .dataframe tbody tr th {\n",
       "        vertical-align: top;\n",
       "    }\n",
       "\n",
       "    .dataframe thead th {\n",
       "        text-align: right;\n",
       "    }\n",
       "</style>\n",
       "<table border=\"1\" class=\"dataframe\">\n",
       "  <thead>\n",
       "    <tr style=\"text-align: right;\">\n",
       "      <th></th>\n",
       "      <th>session_id</th>\n",
       "      <th>session_number</th>\n",
       "      <th>client_agent</th>\n",
       "      <th>device_details</th>\n",
       "      <th>date</th>\n",
       "      <th>purchased</th>\n",
       "      <th>added_in_cart</th>\n",
       "      <th>checked_out</th>\n",
       "    </tr>\n",
       "  </thead>\n",
       "  <tbody>\n",
       "    <tr>\n",
       "      <th>0</th>\n",
       "      <td>0bf72b05b2cf70dc5e28c3c09f9c4f97</td>\n",
       "      <td>99</td>\n",
       "      <td>Mozilla/5.0 (Windows NT 6.1; WOW64; Trident/7....</td>\n",
       "      <td>Desktop - IE</td>\n",
       "      <td>2020-01-07</td>\n",
       "      <td>1</td>\n",
       "      <td>0</td>\n",
       "      <td>0</td>\n",
       "    </tr>\n",
       "    <tr>\n",
       "      <th>1</th>\n",
       "      <td>6bc696d99954e4f1367e845465186aef</td>\n",
       "      <td>935</td>\n",
       "      <td>Product/160393 Android/4.3 Device/samsung_GT-I...</td>\n",
       "      <td>Android Phone - Android</td>\n",
       "      <td>2020-02-13</td>\n",
       "      <td>0</td>\n",
       "      <td>0</td>\n",
       "      <td>0</td>\n",
       "    </tr>\n",
       "    <tr>\n",
       "      <th>2</th>\n",
       "      <td>3d8611a5ea0f621d205b67f09f663a89</td>\n",
       "      <td>902</td>\n",
       "      <td>Product/4.2.2 iPhone/7.1.2</td>\n",
       "      <td>iPhone - iOS</td>\n",
       "      <td>2019-10-14</td>\n",
       "      <td>1</td>\n",
       "      <td>0</td>\n",
       "      <td>0</td>\n",
       "    </tr>\n",
       "    <tr>\n",
       "      <th>3</th>\n",
       "      <td>a0351545c032fd0da36289410c6c3354</td>\n",
       "      <td>3223</td>\n",
       "      <td>Mozilla/5.0 (compatible; MSIE 9.0; Windows NT ...</td>\n",
       "      <td>Desktop - IE</td>\n",
       "      <td>2020-01-26</td>\n",
       "      <td>0</td>\n",
       "      <td>0</td>\n",
       "      <td>0</td>\n",
       "    </tr>\n",
       "    <tr>\n",
       "      <th>4</th>\n",
       "      <td>dd8999772b0ab27225fb05e5df2f1da6</td>\n",
       "      <td>231</td>\n",
       "      <td>Mozilla/5.0 (Windows NT 6.3; WOW64) AppleWebKi...</td>\n",
       "      <td>Desktop - Chrome</td>\n",
       "      <td>2020-01-29</td>\n",
       "      <td>0</td>\n",
       "      <td>0</td>\n",
       "      <td>0</td>\n",
       "    </tr>\n",
       "  </tbody>\n",
       "</table>\n",
       "</div>"
      ],
      "text/plain": [
       "                         session_id  session_number  \\\n",
       "0  0bf72b05b2cf70dc5e28c3c09f9c4f97              99   \n",
       "1  6bc696d99954e4f1367e845465186aef             935   \n",
       "2  3d8611a5ea0f621d205b67f09f663a89             902   \n",
       "3  a0351545c032fd0da36289410c6c3354            3223   \n",
       "4  dd8999772b0ab27225fb05e5df2f1da6             231   \n",
       "\n",
       "                                        client_agent           device_details  \\\n",
       "0  Mozilla/5.0 (Windows NT 6.1; WOW64; Trident/7....             Desktop - IE   \n",
       "1  Product/160393 Android/4.3 Device/samsung_GT-I...  Android Phone - Android   \n",
       "2                         Product/4.2.2 iPhone/7.1.2             iPhone - iOS   \n",
       "3  Mozilla/5.0 (compatible; MSIE 9.0; Windows NT ...             Desktop - IE   \n",
       "4  Mozilla/5.0 (Windows NT 6.3; WOW64) AppleWebKi...         Desktop - Chrome   \n",
       "\n",
       "         date  purchased  added_in_cart  checked_out  \n",
       "0  2020-01-07          1              0            0  \n",
       "1  2020-02-13          0              0            0  \n",
       "2  2019-10-14          1              0            0  \n",
       "3  2020-01-26          0              0            0  \n",
       "4  2020-01-29          0              0            0  "
      ]
     },
     "execution_count": 4,
     "metadata": {},
     "output_type": "execute_result"
    }
   ],
   "source": [
    "#load test data and show it\n",
    "df_test = pd.read_csv('Test.csv')\n",
    "df_test.head()"
   ]
  },
  {
   "cell_type": "code",
   "execution_count": 5,
   "metadata": {},
   "outputs": [
    {
     "name": "stdout",
     "output_type": "stream",
     "text": [
      "Train data (5429, 9)\n",
      "Test data (2327, 8)\n"
     ]
    }
   ],
   "source": [
    "#size of dataset\n",
    "print('Train data',df.shape)\n",
    "print('Test data',df_test.shape)"
   ]
  },
  {
   "cell_type": "code",
   "execution_count": 6,
   "metadata": {},
   "outputs": [
    {
     "name": "stdout",
     "output_type": "stream",
     "text": [
      "No of unique session_id in train data 5429\n",
      "No of rows in the test data 5429\n"
     ]
    }
   ],
   "source": [
    "# check the uniqueness of session_id in train data\n",
    "print('No of unique session_id in train data',len(df['session_id'].unique()))\n",
    "print('No of rows in the test data', len(df))"
   ]
  },
  {
   "cell_type": "code",
   "execution_count": 7,
   "metadata": {},
   "outputs": [
    {
     "name": "stdout",
     "output_type": "stream",
     "text": [
      "No of unique session_id in train data 2327\n",
      "No of rows in the test data 2327\n"
     ]
    }
   ],
   "source": [
    "# check the uniqueness of session_id in test data\n",
    "print('No of unique session_id in train data',len(df_test['session_id'].unique()))\n",
    "print('No of rows in the test data', len(df_test))"
   ]
  },
  {
   "cell_type": "markdown",
   "metadata": {},
   "source": [
    "session_id is a unique field hence not much help in analysis"
   ]
  },
  {
   "cell_type": "code",
   "execution_count": 8,
   "metadata": {},
   "outputs": [
    {
     "data": {
      "text/plain": [
       "session_id          0\n",
       "session_number      0\n",
       "client_agent      160\n",
       "device_details      0\n",
       "date                0\n",
       "purchased           0\n",
       "added_in_cart       0\n",
       "checked_out         0\n",
       "time_spent          0\n",
       "dtype: int64"
      ]
     },
     "execution_count": 8,
     "metadata": {},
     "output_type": "execute_result"
    }
   ],
   "source": [
    "#test for null\n",
    "\n",
    "df.isnull().sum()"
   ]
  },
  {
   "cell_type": "code",
   "execution_count": 9,
   "metadata": {},
   "outputs": [
    {
     "data": {
      "text/plain": [
       "session_id         0\n",
       "session_number     0\n",
       "client_agent      59\n",
       "device_details     0\n",
       "date               0\n",
       "purchased          0\n",
       "added_in_cart      0\n",
       "checked_out        0\n",
       "dtype: int64"
      ]
     },
     "execution_count": 9,
     "metadata": {},
     "output_type": "execute_result"
    }
   ],
   "source": [
    "df_test.isnull().sum()"
   ]
  },
  {
   "cell_type": "code",
   "execution_count": 10,
   "metadata": {},
   "outputs": [
    {
     "data": {
      "text/plain": [
       "0"
      ]
     },
     "execution_count": 10,
     "metadata": {},
     "output_type": "execute_result"
    }
   ],
   "source": [
    "#test for duplicate\n",
    "\n",
    "df.duplicated().sum()"
   ]
  },
  {
   "cell_type": "code",
   "execution_count": 11,
   "metadata": {},
   "outputs": [
    {
     "data": {
      "text/plain": [
       "0"
      ]
     },
     "execution_count": 11,
     "metadata": {},
     "output_type": "execute_result"
    }
   ],
   "source": [
    "df_test.duplicated().sum()"
   ]
  },
  {
   "cell_type": "markdown",
   "metadata": {},
   "source": [
    "<b>session_number"
   ]
  },
  {
   "cell_type": "code",
   "execution_count": 12,
   "metadata": {},
   "outputs": [
    {
     "name": "stdout",
     "output_type": "stream",
     "text": [
      "No of unique session_number in train data 610\n"
     ]
    }
   ],
   "source": [
    "print('No of unique session_number in train data',len(df['session_number'].unique()))"
   ]
  },
  {
   "cell_type": "code",
   "execution_count": 13,
   "metadata": {},
   "outputs": [
    {
     "data": {
      "text/plain": [
       "Text(0.5, 1.0, 'session_number')"
      ]
     },
     "execution_count": 13,
     "metadata": {},
     "output_type": "execute_result"
    },
    {
     "data": {
      "image/png": "[encoded data removed]",
      "text/plain": [
       "<Figure size 432x288 with 1 Axes>"
      ]
     },
     "metadata": {
      "needs_background": "light"
     },
     "output_type": "display_data"
    }
   ],
   "source": [
    "#distribution of \n",
    "\n",
    "df['session_number'].hist(bins=30)\n",
    "plt.ylabel('Number of session_number')\n",
    "plt.xlabel('session_number')\n",
    "plt.title('session_number')"
   ]
  },
  {
   "cell_type": "markdown",
   "metadata": {},
   "source": [
    "<b>device_details\t"
   ]
  },
  {
   "cell_type": "code",
   "execution_count": 14,
   "metadata": {},
   "outputs": [
    {
     "name": "stdout",
     "output_type": "stream",
     "text": [
      "Unique device_details:  ['Desktop - Chrome' 'iPhone - iOS' 'iPhone - MobileWeb' 'Desktop - IE'\n",
      " 'iPhone - Web' 'Android Phone - Android' 'Desktop - Firefox'\n",
      " 'Android Tablet - Web' 'iPad - Web' 'Other - Other' 'Desktop - Safari'\n",
      " 'Android Phone - Web' 'iPad - iOS' 'Android Phone - MobileWeb'\n",
      " 'Unknown - MobileWeb' 'Android Tablet - Android'\n",
      " 'Android Tablet - MobileWeb']\n"
     ]
    }
   ],
   "source": [
    "print('Unique device_details: ',df['device_details'].unique())"
   ]
  },
  {
   "cell_type": "code",
   "execution_count": 15,
   "metadata": {},
   "outputs": [
    {
     "name": "stdout",
     "output_type": "stream",
     "text": [
      "Unique device_details (Test Set):  ['Desktop - IE' 'Android Phone - Android' 'iPhone - iOS'\n",
      " 'Desktop - Chrome' 'Unknown - MobileWeb' 'Android Tablet - Web'\n",
      " 'Android Phone - Web' 'iPhone - MobileWeb' 'iPad - iOS' 'iPad - Web'\n",
      " 'iPhone - Web' 'Desktop - Firefox' 'Other - Other' 'Desktop - Safari'\n",
      " 'Android Tablet - Android' 'Android Phone - MobileWeb']\n"
     ]
    }
   ],
   "source": [
    "print('Unique device_details (Test Set): ',df_test['device_details'].unique())"
   ]
  },
  {
   "cell_type": "markdown",
   "metadata": {},
   "source": [
    "'Android Tablet - MobileWeb' in train data doesn't exist in test set"
   ]
  },
  {
   "cell_type": "markdown",
   "metadata": {},
   "source": [
    "Frequency of each category ->"
   ]
  },
  {
   "cell_type": "code",
   "execution_count": 16,
   "metadata": {},
   "outputs": [
    {
     "data": {
      "text/plain": [
       "Android Tablet - MobileWeb       2\n",
       "Android Tablet - Android         9\n",
       "Android Phone - MobileWeb       54\n",
       "iPad - iOS                      77\n",
       "Android Phone - Web             86\n",
       "Unknown - MobileWeb             87\n",
       "Other - Other                  185\n",
       "Android Tablet - Web           203\n",
       "Desktop - Firefox              234\n",
       "iPhone - MobileWeb             277\n",
       "iPad - Web                     289\n",
       "Desktop - IE                   292\n",
       "Desktop - Safari               313\n",
       "Android Phone - Android        326\n",
       "iPhone - Web                   665\n",
       "Desktop - Chrome               815\n",
       "iPhone - iOS                  1515\n",
       "Name: device_details, dtype: int64"
      ]
     },
     "execution_count": 16,
     "metadata": {},
     "output_type": "execute_result"
    },
    {
     "data": {
      "text/plain": [
       "<Figure size 864x576 with 0 Axes>"
      ]
     },
     "metadata": {},
     "output_type": "display_data"
    }
   ],
   "source": [
    "#max used device\n",
    "plt.figure(figsize=(12,8))\n",
    "df['device_details'].value_counts().sort_values()"
   ]
  },
  {
   "cell_type": "code",
   "execution_count": 17,
   "metadata": {},
   "outputs": [
    {
     "data": {
      "image/png": "[encoded data removed]",
      "text/plain": [
       "<Figure size 864x576 with 1 Axes>"
      ]
     },
     "metadata": {
      "needs_background": "light"
     },
     "output_type": "display_data"
    }
   ],
   "source": [
    "#max used device on time_spent\n",
    "\n",
    "plt.figure(figsize=(12,8))\n",
    "df.groupby('device_details')['time_spent'].median().sort_values().plot(kind='barh')\n",
    "plt.xlabel('session time spent')\n",
    "plt.show()"
   ]
  },
  {
   "cell_type": "code",
   "execution_count": 18,
   "metadata": {},
   "outputs": [
    {
     "data": {
      "image/png": "[encoded data removed]",
      "text/plain": [
       "<Figure size 288x288 with 1 Axes>"
      ]
     },
     "metadata": {
      "needs_background": "light"
     },
     "output_type": "display_data"
    },
    {
     "data": {
      "image/png": "[encoded data removed]",
      "text/plain": [
       "<Figure size 288x288 with 1 Axes>"
      ]
     },
     "metadata": {
      "needs_background": "light"
     },
     "output_type": "display_data"
    },
    {
     "data": {
      "image/png": "[encoded data removed]",
      "text/plain": [
       "<Figure size 288x288 with 1 Axes>"
      ]
     },
     "metadata": {
      "needs_background": "light"
     },
     "output_type": "display_data"
    },
    {
     "data": {
      "image/png": "[encoded data removed]",
      "text/plain": [
       "<Figure size 288x288 with 1 Axes>"
      ]
     },
     "metadata": {
      "needs_background": "light"
     },
     "output_type": "display_data"
    },
    {
     "data": {
      "image/png": "[encoded data removed]",
      "text/plain": [
       "<Figure size 288x288 with 1 Axes>"
      ]
     },
     "metadata": {
      "needs_background": "light"
     },
     "output_type": "display_data"
    },
    {
     "data": {
      "image/png": "[encoded data removed]",
      "text/plain": [
       "<Figure size 288x288 with 1 Axes>"
      ]
     },
     "metadata": {
      "needs_background": "light"
     },
     "output_type": "display_data"
    },
    {
     "data": {
      "image/png": "[encoded data removed]",
      "text/plain": [
       "<Figure size 288x288 with 1 Axes>"
      ]
     },
     "metadata": {
      "needs_background": "light"
     },
     "output_type": "display_data"
    },
    {
     "data": {
      "image/png": "[encoded data removed]",
      "text/plain": [
       "<Figure size 288x288 with 1 Axes>"
      ]
     },
     "metadata": {
      "needs_background": "light"
     },
     "output_type": "display_data"
    },
    {
     "data": {
      "image/png": "[encoded data removed]",
      "text/plain": [
       "<Figure size 288x288 with 1 Axes>"
      ]
     },
     "metadata": {
      "needs_background": "light"
     },
     "output_type": "display_data"
    },
    {
     "data": {
      "image/png": "[encoded data removed]",
      "text/plain": [
       "<Figure size 288x288 with 1 Axes>"
      ]
     },
     "metadata": {
      "needs_background": "light"
     },
     "output_type": "display_data"
    },
    {
     "data": {
      "image/png": "[encoded data removed]",
      "text/plain": [
       "<Figure size 288x288 with 1 Axes>"
      ]
     },
     "metadata": {
      "needs_background": "light"
     },
     "output_type": "display_data"
    },
    {
     "data": {
      "image/png": "[encoded data removed]",
      "text/plain": [
       "<Figure size 288x288 with 1 Axes>"
      ]
     },
     "metadata": {
      "needs_background": "light"
     },
     "output_type": "display_data"
    },
    {
     "data": {
      "image/png": "[encoded data removed]",
      "text/plain": [
       "<Figure size 288x288 with 1 Axes>"
      ]
     },
     "metadata": {
      "needs_background": "light"
     },
     "output_type": "display_data"
    },
    {
     "data": {
      "image/png": "[encoded data removed]",
      "text/plain": [
       "<Figure size 288x288 with 1 Axes>"
      ]
     },
     "metadata": {
      "needs_background": "light"
     },
     "output_type": "display_data"
    },
    {
     "data": {
      "image/png": "[encoded data removed]",
      "text/plain": [
       "<Figure size 288x288 with 1 Axes>"
      ]
     },
     "metadata": {
      "needs_background": "light"
     },
     "output_type": "display_data"
    },
    {
     "data": {
      "image/png": "[encoded data removed]",
      "text/plain": [
       "<Figure size 288x288 with 1 Axes>"
      ]
     },
     "metadata": {
      "needs_background": "light"
     },
     "output_type": "display_data"
    },
    {
     "data": {
      "image/png": "[encoded data removed]",
      "text/plain": [
       "<Figure size 288x288 with 1 Axes>"
      ]
     },
     "metadata": {
      "needs_background": "light"
     },
     "output_type": "display_data"
    }
   ],
   "source": [
    "#create boxplot to see distribution of time spent device wise\n",
    "\n",
    "for var in df['device_details'].unique():\n",
    "    plt.figure(figsize=(4,4))\n",
    "    sns.boxplot(x=df['device_details'][df['device_details']==var],y=df['time_spent'][df['device_details']==var])\n",
    "    plt.show()"
   ]
  },
  {
   "cell_type": "code",
   "execution_count": 19,
   "metadata": {},
   "outputs": [
    {
     "data": {
      "image/png": "[encoded data removed]",
      "text/plain": [
       "<Figure size 864x576 with 1 Axes>"
      ]
     },
     "metadata": {
      "needs_background": "light"
     },
     "output_type": "display_data"
    },
    {
     "data": {
      "image/png": "[encoded data removed]",
      "text/plain": [
       "<Figure size 864x576 with 1 Axes>"
      ]
     },
     "metadata": {
      "needs_background": "light"
     },
     "output_type": "display_data"
    },
    {
     "data": {
      "image/png": "[encoded data removed]",
      "text/plain": [
       "<Figure size 864x576 with 1 Axes>"
      ]
     },
     "metadata": {
      "needs_background": "light"
     },
     "output_type": "display_data"
    }
   ],
   "source": [
    "# box plot for three binary fields and how they impact time\n",
    "\n",
    "for var in ['purchased','added_in_cart','checked_out']:\n",
    "    plt.figure(figsize=(12,8))\n",
    "    sns.boxplot(x=var,y='time_spent',data=df)\n",
    "    plt.show()"
   ]
  },
  {
   "cell_type": "markdown",
   "metadata": {},
   "source": [
    "<b> check distribution of time_spent"
   ]
  },
  {
   "cell_type": "code",
   "execution_count": 20,
   "metadata": {},
   "outputs": [
    {
     "data": {
      "text/plain": [
       "<matplotlib.axes._subplots.AxesSubplot at 0x20ed09be040>"
      ]
     },
     "execution_count": 20,
     "metadata": {},
     "output_type": "execute_result"
    },
    {
     "data": {
      "image/png": "[encoded data removed]",
      "text/plain": [
       "<Figure size 864x576 with 1 Axes>"
      ]
     },
     "metadata": {
      "needs_background": "light"
     },
     "output_type": "display_data"
    }
   ],
   "source": [
    "#distribution plot\n",
    "\n",
    "plt.figure(figsize=(12,8))\n",
    "sns.distplot(df['time_spent'])"
   ]
  },
  {
   "cell_type": "code",
   "execution_count": 21,
   "metadata": {},
   "outputs": [
    {
     "data": {
      "text/plain": [
       "<matplotlib.axes._subplots.AxesSubplot at 0x20ed0a19760>"
      ]
     },
     "execution_count": 21,
     "metadata": {},
     "output_type": "execute_result"
    },
    {
     "data": {
      "image/png": "[encoded data removed]",
      "text/plain": [
       "<Figure size 432x288 with 1 Axes>"
      ]
     },
     "metadata": {
      "needs_background": "light"
     },
     "output_type": "display_data"
    }
   ],
   "source": [
    "#boxplot\n",
    "\n",
    "sns.boxplot(df['time_spent'])"
   ]
  },
  {
   "cell_type": "code",
   "execution_count": 22,
   "metadata": {},
   "outputs": [
    {
     "name": "stdout",
     "output_type": "stream",
     "text": [
      "No of time_spent > 20000 7 | % of total data 0.0012893718916927612\n",
      "No of time_spent > 10000 31 | % of total data 0.005710075520353656\n",
      "No of time_spent > 5000 119 | % of total data 0.021919322158776938\n",
      "No of time_spent > 2500 325 | % of total data 0.059863694971449624\n"
     ]
    }
   ],
   "source": [
    "#check for any possible outliers\n",
    "\n",
    "print('No of time_spent > 20000',len(df[df['time_spent']>20000]), '| % of total data', len(df[df['time_spent']>20000])/len(df))\n",
    "print('No of time_spent > 10000',len(df[df['time_spent']>10000]), '| % of total data', len(df[df['time_spent']>10000])/len(df))\n",
    "print('No of time_spent > 5000',len(df[df['time_spent']>5000]), '| % of total data', len(df[df['time_spent']>5000])/len(df))\n",
    "print('No of time_spent > 2500',len(df[df['time_spent']>2500]), '| % of total data', len(df[df['time_spent']>2500])/len(df))"
   ]
  },
  {
   "cell_type": "code",
   "execution_count": 23,
   "metadata": {},
   "outputs": [
    {
     "data": {
      "text/plain": [
       "count     5429.000000\n",
       "mean       663.194292\n",
       "std       1713.671664\n",
       "min         14.400000\n",
       "25%         22.699000\n",
       "50%         98.312000\n",
       "75%        600.463000\n",
       "max      38494.025000\n",
       "Name: time_spent, dtype: float64"
      ]
     },
     "execution_count": 23,
     "metadata": {},
     "output_type": "execute_result"
    }
   ],
   "source": [
    "#descriptive stats of the field \n",
    "\n",
    "df['time_spent'].describe()"
   ]
  },
  {
   "cell_type": "markdown",
   "metadata": {},
   "source": [
    "## Feature Engineering"
   ]
  },
  {
   "cell_type": "markdown",
   "metadata": {},
   "source": [
    "<b>Droping session_id</B> because it is an unique field"
   ]
  },
  {
   "cell_type": "code",
   "execution_count": 24,
   "metadata": {},
   "outputs": [],
   "source": [
    "#drop the column in both train and test set\n",
    "\n",
    "df = df.drop('session_id',axis=1)\n",
    "df_test = df_test.drop('session_id',axis=1)"
   ]
  },
  {
   "cell_type": "markdown",
   "metadata": {},
   "source": [
    "<b>date</b>\n",
    "manipulate date field and drop it afterwards"
   ]
  },
  {
   "cell_type": "code",
   "execution_count": 25,
   "metadata": {},
   "outputs": [
    {
     "data": {
      "text/html": [
       "<div>\n",
       "<style scoped>\n",
       "    .dataframe tbody tr th:only-of-type {\n",
       "        vertical-align: middle;\n",
       "    }\n",
       "\n",
       "    .dataframe tbody tr th {\n",
       "        vertical-align: top;\n",
       "    }\n",
       "\n",
       "    .dataframe thead th {\n",
       "        text-align: right;\n",
       "    }\n",
       "</style>\n",
       "<table border=\"1\" class=\"dataframe\">\n",
       "  <thead>\n",
       "    <tr style=\"text-align: right;\">\n",
       "      <th></th>\n",
       "      <th>session_number</th>\n",
       "      <th>client_agent</th>\n",
       "      <th>device_details</th>\n",
       "      <th>purchased</th>\n",
       "      <th>added_in_cart</th>\n",
       "      <th>checked_out</th>\n",
       "      <th>time_spent</th>\n",
       "      <th>year</th>\n",
       "      <th>month</th>\n",
       "    </tr>\n",
       "  </thead>\n",
       "  <tbody>\n",
       "    <tr>\n",
       "      <th>0</th>\n",
       "      <td>715</td>\n",
       "      <td>Mozilla/5.0 (Windows NT 6.1; WOW64) AppleWebKi...</td>\n",
       "      <td>Desktop - Chrome</td>\n",
       "      <td>1</td>\n",
       "      <td>0</td>\n",
       "      <td>0</td>\n",
       "      <td>236.886</td>\n",
       "      <td>2020</td>\n",
       "      <td>1</td>\n",
       "    </tr>\n",
       "    <tr>\n",
       "      <th>1</th>\n",
       "      <td>55</td>\n",
       "      <td>Product/8.0 iPhone/8.1.3</td>\n",
       "      <td>iPhone - iOS</td>\n",
       "      <td>1</td>\n",
       "      <td>0</td>\n",
       "      <td>0</td>\n",
       "      <td>1277.455</td>\n",
       "      <td>2020</td>\n",
       "      <td>2</td>\n",
       "    </tr>\n",
       "    <tr>\n",
       "      <th>2</th>\n",
       "      <td>11</td>\n",
       "      <td>Mozilla/5.0 (iPhone; CPU iPhone OS 7_1_2 like ...</td>\n",
       "      <td>iPhone - MobileWeb</td>\n",
       "      <td>0</td>\n",
       "      <td>0</td>\n",
       "      <td>0</td>\n",
       "      <td>21.704</td>\n",
       "      <td>2019</td>\n",
       "      <td>8</td>\n",
       "    </tr>\n",
       "    <tr>\n",
       "      <th>3</th>\n",
       "      <td>2794</td>\n",
       "      <td>Mozilla/5.0 (compatible; MSIE 9.0; Windows NT ...</td>\n",
       "      <td>Desktop - IE</td>\n",
       "      <td>0</td>\n",
       "      <td>1</td>\n",
       "      <td>0</td>\n",
       "      <td>455.201</td>\n",
       "      <td>2019</td>\n",
       "      <td>12</td>\n",
       "    </tr>\n",
       "    <tr>\n",
       "      <th>4</th>\n",
       "      <td>3674</td>\n",
       "      <td>Mozilla/5.0 (iPhone; CPU iPhone OS 7_1_1 like ...</td>\n",
       "      <td>iPhone - Web</td>\n",
       "      <td>0</td>\n",
       "      <td>0</td>\n",
       "      <td>0</td>\n",
       "      <td>1164.877</td>\n",
       "      <td>2019</td>\n",
       "      <td>9</td>\n",
       "    </tr>\n",
       "  </tbody>\n",
       "</table>\n",
       "</div>"
      ],
      "text/plain": [
       "   session_number                                       client_agent  \\\n",
       "0             715  Mozilla/5.0 (Windows NT 6.1; WOW64) AppleWebKi...   \n",
       "1              55                           Product/8.0 iPhone/8.1.3   \n",
       "2              11  Mozilla/5.0 (iPhone; CPU iPhone OS 7_1_2 like ...   \n",
       "3            2794  Mozilla/5.0 (compatible; MSIE 9.0; Windows NT ...   \n",
       "4            3674  Mozilla/5.0 (iPhone; CPU iPhone OS 7_1_1 like ...   \n",
       "\n",
       "       device_details  purchased  added_in_cart  checked_out  time_spent  \\\n",
       "0    Desktop - Chrome          1              0            0     236.886   \n",
       "1        iPhone - iOS          1              0            0    1277.455   \n",
       "2  iPhone - MobileWeb          0              0            0      21.704   \n",
       "3        Desktop - IE          0              1            0     455.201   \n",
       "4        iPhone - Web          0              0            0    1164.877   \n",
       "\n",
       "   year  month  \n",
       "0  2020      1  \n",
       "1  2020      2  \n",
       "2  2019      8  \n",
       "3  2019     12  \n",
       "4  2019      9  "
      ]
     },
     "execution_count": 25,
     "metadata": {},
     "output_type": "execute_result"
    }
   ],
   "source": [
    "df['date'] = pd.to_datetime(df['date'])\n",
    "df['year'] = df['date'].apply(lambda date:date.year)\n",
    "df['month'] = df['date'].apply(lambda date:date.month)\n",
    "\n",
    "df = df.drop('date',axis=1)\n",
    "df.head()"
   ]
  },
  {
   "cell_type": "code",
   "execution_count": 26,
   "metadata": {},
   "outputs": [
    {
     "data": {
      "text/html": [
       "<div>\n",
       "<style scoped>\n",
       "    .dataframe tbody tr th:only-of-type {\n",
       "        vertical-align: middle;\n",
       "    }\n",
       "\n",
       "    .dataframe tbody tr th {\n",
       "        vertical-align: top;\n",
       "    }\n",
       "\n",
       "    .dataframe thead th {\n",
       "        text-align: right;\n",
       "    }\n",
       "</style>\n",
       "<table border=\"1\" class=\"dataframe\">\n",
       "  <thead>\n",
       "    <tr style=\"text-align: right;\">\n",
       "      <th></th>\n",
       "      <th>session_number</th>\n",
       "      <th>client_agent</th>\n",
       "      <th>device_details</th>\n",
       "      <th>purchased</th>\n",
       "      <th>added_in_cart</th>\n",
       "      <th>checked_out</th>\n",
       "      <th>year</th>\n",
       "      <th>month</th>\n",
       "    </tr>\n",
       "  </thead>\n",
       "  <tbody>\n",
       "    <tr>\n",
       "      <th>0</th>\n",
       "      <td>99</td>\n",
       "      <td>Mozilla/5.0 (Windows NT 6.1; WOW64; Trident/7....</td>\n",
       "      <td>Desktop - IE</td>\n",
       "      <td>1</td>\n",
       "      <td>0</td>\n",
       "      <td>0</td>\n",
       "      <td>2020</td>\n",
       "      <td>1</td>\n",
       "    </tr>\n",
       "    <tr>\n",
       "      <th>1</th>\n",
       "      <td>935</td>\n",
       "      <td>Product/160393 Android/4.3 Device/samsung_GT-I...</td>\n",
       "      <td>Android Phone - Android</td>\n",
       "      <td>0</td>\n",
       "      <td>0</td>\n",
       "      <td>0</td>\n",
       "      <td>2020</td>\n",
       "      <td>2</td>\n",
       "    </tr>\n",
       "    <tr>\n",
       "      <th>2</th>\n",
       "      <td>902</td>\n",
       "      <td>Product/4.2.2 iPhone/7.1.2</td>\n",
       "      <td>iPhone - iOS</td>\n",
       "      <td>1</td>\n",
       "      <td>0</td>\n",
       "      <td>0</td>\n",
       "      <td>2019</td>\n",
       "      <td>10</td>\n",
       "    </tr>\n",
       "    <tr>\n",
       "      <th>3</th>\n",
       "      <td>3223</td>\n",
       "      <td>Mozilla/5.0 (compatible; MSIE 9.0; Windows NT ...</td>\n",
       "      <td>Desktop - IE</td>\n",
       "      <td>0</td>\n",
       "      <td>0</td>\n",
       "      <td>0</td>\n",
       "      <td>2020</td>\n",
       "      <td>1</td>\n",
       "    </tr>\n",
       "    <tr>\n",
       "      <th>4</th>\n",
       "      <td>231</td>\n",
       "      <td>Mozilla/5.0 (Windows NT 6.3; WOW64) AppleWebKi...</td>\n",
       "      <td>Desktop - Chrome</td>\n",
       "      <td>0</td>\n",
       "      <td>0</td>\n",
       "      <td>0</td>\n",
       "      <td>2020</td>\n",
       "      <td>1</td>\n",
       "    </tr>\n",
       "  </tbody>\n",
       "</table>\n",
       "</div>"
      ],
      "text/plain": [
       "   session_number                                       client_agent  \\\n",
       "0              99  Mozilla/5.0 (Windows NT 6.1; WOW64; Trident/7....   \n",
       "1             935  Product/160393 Android/4.3 Device/samsung_GT-I...   \n",
       "2             902                         Product/4.2.2 iPhone/7.1.2   \n",
       "3            3223  Mozilla/5.0 (compatible; MSIE 9.0; Windows NT ...   \n",
       "4             231  Mozilla/5.0 (Windows NT 6.3; WOW64) AppleWebKi...   \n",
       "\n",
       "            device_details  purchased  added_in_cart  checked_out  year  month  \n",
       "0             Desktop - IE          1              0            0  2020      1  \n",
       "1  Android Phone - Android          0              0            0  2020      2  \n",
       "2             iPhone - iOS          1              0            0  2019     10  \n",
       "3             Desktop - IE          0              0            0  2020      1  \n",
       "4         Desktop - Chrome          0              0            0  2020      1  "
      ]
     },
     "execution_count": 26,
     "metadata": {},
     "output_type": "execute_result"
    }
   ],
   "source": [
    "#test dataset\n",
    "df_test['date'] = pd.to_datetime(df_test['date'])\n",
    "df_test['year'] = df_test['date'].apply(lambda date:date.year)\n",
    "df_test['month'] = df_test['date'].apply(lambda date:date.month)\n",
    "\n",
    "df_test = df_test.drop('date',axis=1)\n",
    "df_test.head()"
   ]
  },
  {
   "cell_type": "markdown",
   "metadata": {},
   "source": [
    "<b>device_details</b>\n",
    "created dummy for device_details and grouped least used 7 category to one dummy"
   ]
  },
  {
   "cell_type": "code",
   "execution_count": 27,
   "metadata": {},
   "outputs": [],
   "source": [
    "var_device_details = df['device_details'].unique()\n",
    "for var in var_device_details:\n",
    "    if var !='Other - Other' and var !='Unknown - MobileWeb' and var !='Android Phone - Web' and var != 'iPad - iOS' and var != 'Android Phone - MobileWeb' and var != 'Android Tablet - Android' and var != 'Android Tablet - MobileWeb':\n",
    "        df[var] = np.where(df['device_details'] == var,1,0)"
   ]
  },
  {
   "cell_type": "code",
   "execution_count": 28,
   "metadata": {},
   "outputs": [],
   "source": [
    "df['others'] = np.where((df['device_details'] =='Other - Other') | (df['device_details']=='Unknown - MobileWeb') \n",
    "                           | (df['device_details']=='Android Phone - Web') | (df['device_details']== 'iPad - iOS') \n",
    "                           | (df['device_details']== 'Android Phone - MobileWeb') | (df['device_details']== 'Android Tablet - Android') \n",
    "                           | (df['device_details']== 'Android Tablet - MobileWeb'),1,0)"
   ]
  },
  {
   "cell_type": "markdown",
   "metadata": {},
   "source": [
    "Test set"
   ]
  },
  {
   "cell_type": "code",
   "execution_count": 29,
   "metadata": {},
   "outputs": [],
   "source": [
    "var_device_details = df_test['device_details'].unique()\n",
    "for var in var_device_details:\n",
    "    if var !='Other - Other' and var !='Unknown - MobileWeb' and var !='Android Phone - Web' and var != 'iPad - iOS' and var != 'Android Phone - MobileWeb' and var != 'Android Tablet - Android' and var != 'Android Tablet - MobileWeb':\n",
    "        df_test[var] = np.where(df_test['device_details'] == var,1,0)"
   ]
  },
  {
   "cell_type": "code",
   "execution_count": 30,
   "metadata": {},
   "outputs": [],
   "source": [
    "df_test['others'] = np.where((df_test['device_details'] =='Other - Other') | (df_test['device_details']=='Unknown - MobileWeb') \n",
    "                           | (df_test['device_details']=='Android Phone - Web') | (df_test['device_details']== 'iPad - iOS') \n",
    "                           | (df_test['device_details']== 'Android Phone - MobileWeb') | (df_test['device_details']== 'Android Tablet - Android') \n",
    "                           | (df_test['device_details']== 'Android Tablet - MobileWeb'),1,0)"
   ]
  },
  {
   "cell_type": "markdown",
   "metadata": {},
   "source": [
    "drop device_details field from both dataset"
   ]
  },
  {
   "cell_type": "code",
   "execution_count": 31,
   "metadata": {},
   "outputs": [],
   "source": [
    "df = df.drop('device_details',axis=1)\n",
    "df_test = df_test.drop('device_details',axis=1)"
   ]
  },
  {
   "cell_type": "markdown",
   "metadata": {},
   "source": [
    "drop client_agent field from both dataset"
   ]
  },
  {
   "cell_type": "code",
   "execution_count": 32,
   "metadata": {},
   "outputs": [],
   "source": [
    "df = df.drop('client_agent',axis=1)\n",
    "df_test = df_test.drop('client_agent',axis=1)"
   ]
  },
  {
   "cell_type": "markdown",
   "metadata": {},
   "source": [
    "<b>Rank session no based on time spent"
   ]
  },
  {
   "cell_type": "code",
   "execution_count": 33,
   "metadata": {},
   "outputs": [],
   "source": [
    "xx=df.groupby('session_number')['time_spent'].median().sort_values()\n",
    "temp_df=pd.DataFrame(xx)\n",
    "temp_df.reset_index(inplace=True)\n",
    "temp_df['serial']=temp_df.index\n",
    "\n",
    "dic_session = pd.Series(temp_df.serial.values,index=temp_df.session_number).to_dict()\n",
    "\n",
    "df['sees_rank'] = df['session_number'].map(dic_session)\n",
    "df_test['sees_rank']=df_test['session_number'].map(dic_session)"
   ]
  },
  {
   "cell_type": "code",
   "execution_count": 34,
   "metadata": {},
   "outputs": [],
   "source": [
    "#drop the field as new rank has been assigned\n",
    "df.drop('session_number',axis=1,inplace=True)\n",
    "df_test.drop('session_number',axis=1,inplace=True)"
   ]
  },
  {
   "cell_type": "code",
   "execution_count": 35,
   "metadata": {},
   "outputs": [],
   "source": [
    "#fill null values in the new field of test dataset\n",
    "df_test['sees_rank'].fillna(method='ffill',inplace=True)"
   ]
  },
  {
   "cell_type": "markdown",
   "metadata": {},
   "source": [
    "## Preprocessing for ML"
   ]
  },
  {
   "cell_type": "markdown",
   "metadata": {},
   "source": [
    "Split the data high and low subset based on time_spent. We'll train the high time spend data and low time spend data separately and predict the output of test set based on this and take average of the same"
   ]
  },
  {
   "cell_type": "code",
   "execution_count": 36,
   "metadata": {},
   "outputs": [],
   "source": [
    "df_lo=df[df['time_spent']<=98]\n",
    "df_hi=df[df['time_spent']>98]"
   ]
  },
  {
   "cell_type": "code",
   "execution_count": 37,
   "metadata": {},
   "outputs": [
    {
     "name": "stdout",
     "output_type": "stream",
     "text": [
      "Shape of low  (2712, 18)\n",
      "Shape of high  (2717, 18)\n"
     ]
    }
   ],
   "source": [
    "print('Shape of low ', df_lo.shape)\n",
    "print('Shape of high ', df_hi.shape)"
   ]
  },
  {
   "cell_type": "markdown",
   "metadata": {},
   "source": [
    "<b>Train the low"
   ]
  },
  {
   "cell_type": "code",
   "execution_count": 38,
   "metadata": {},
   "outputs": [],
   "source": [
    "#Divide the data into Feature and Label component\n",
    "\n",
    "X = df_lo.drop(['time_spent'],axis=1).values \n",
    "y = np.log1p(df_lo['time_spent'].values) #taking log of UnitPrice for the skewed value"
   ]
  },
  {
   "cell_type": "code",
   "execution_count": 39,
   "metadata": {},
   "outputs": [],
   "source": [
    "#saving column names as features\n",
    "feature = df_lo.drop(['time_spent'],axis=1).columns"
   ]
  },
  {
   "cell_type": "code",
   "execution_count": 40,
   "metadata": {},
   "outputs": [],
   "source": [
    "#split the data in train and test sets\n",
    "from sklearn.model_selection import train_test_split\n",
    "X_train, X_test, y_train, y_test = train_test_split(X, y, test_size=0.20, random_state=42)"
   ]
  },
  {
   "cell_type": "code",
   "execution_count": 41,
   "metadata": {},
   "outputs": [],
   "source": [
    "#scale the data\n",
    "\n",
    "from sklearn.preprocessing import MinMaxScaler\n",
    "scaler = MinMaxScaler()\n",
    "\n",
    "X_train = scaler.fit_transform(X_train)\n",
    "X_test = scaler.transform(X_test)"
   ]
  },
  {
   "cell_type": "code",
   "execution_count": 42,
   "metadata": {},
   "outputs": [],
   "source": [
    "#preparing test set\n",
    "\n",
    "x1_test = df_test.values\n",
    "\n",
    "#scaling the test set\n",
    "\n",
    "x1_test = scaler.transform(x1_test)"
   ]
  },
  {
   "cell_type": "markdown",
   "metadata": {},
   "source": [
    "<h3>Random Forest"
   ]
  },
  {
   "cell_type": "code",
   "execution_count": 43,
   "metadata": {},
   "outputs": [],
   "source": [
    "from sklearn.model_selection import GridSearchCV\n",
    "from sklearn.model_selection import cross_validate,cross_val_predict\n",
    "from sklearn.ensemble import RandomForestRegressor\n",
    "from sklearn.metrics import mean_squared_log_error,r2_score"
   ]
  },
  {
   "cell_type": "markdown",
   "metadata": {},
   "source": [
    "5 Fold GridSearch is performed in RandomForest"
   ]
  },
  {
   "cell_type": "code",
   "execution_count": 44,
   "metadata": {},
   "outputs": [
    {
     "data": {
      "text/plain": [
       "GridSearchCV(cv=5, estimator=RandomForestRegressor(),\n",
       "             param_grid={'max_depth': [7, 8, 9],\n",
       "                         'n_estimators': [150, 170, 190]})"
      ]
     },
     "execution_count": 44,
     "metadata": {},
     "output_type": "execute_result"
    }
   ],
   "source": [
    "rf = RandomForestRegressor()\n",
    "parameters = {\n",
    "    'n_estimators': [150, 170,190],\n",
    "    'max_depth': [7, 8, 9]\n",
    "}\n",
    "\n",
    "rf_cv = GridSearchCV(rf, parameters, cv=5)\n",
    "rf_cv.fit(X_train, y_train)"
   ]
  },
  {
   "cell_type": "code",
   "execution_count": 45,
   "metadata": {},
   "outputs": [
    {
     "data": {
      "text/plain": [
       "{'max_depth': 8, 'n_estimators': 170}"
      ]
     },
     "execution_count": 45,
     "metadata": {},
     "output_type": "execute_result"
    }
   ],
   "source": [
    "#best parameters\n",
    "\n",
    "rf_cv.best_params_"
   ]
  },
  {
   "cell_type": "code",
   "execution_count": 46,
   "metadata": {},
   "outputs": [
    {
     "name": "stdout",
     "output_type": "stream",
     "text": [
      "RMSLE= 0.4019313184876013\n",
      "r2_score= 0.17485530360236923\n"
     ]
    }
   ],
   "source": [
    "#Test set r2 and RMSLE\n",
    "\n",
    "model_rf1 = RandomForestRegressor(max_depth=8,n_estimators=170)\n",
    "\n",
    "model_rf1.fit(X_train,y_train)\n",
    "\n",
    "pred_rf = np.expm1(model_rf1.predict(X_test)) #prediction (exponential taken as it was log term)\n",
    "\n",
    "y_true = np.expm1(y_test)  #original y_test\n",
    "\n",
    "print(\"RMSLE=\",np.sqrt(mean_squared_log_error(y_true,pred_rf)))\n",
    "print(\"r2_score=\",r2_score(y_true,pred_rf))"
   ]
  },
  {
   "cell_type": "code",
   "execution_count": 48,
   "metadata": {},
   "outputs": [
    {
     "name": "stdout",
     "output_type": "stream",
     "text": [
      "RMSLE= 0.35896312274871073\n",
      "r2_score= 0.34417942535577006\n"
     ]
    }
   ],
   "source": [
    "#Train set r2 and RMSLE\n",
    "\n",
    "pred_rf_train = np.expm1(model_rf1.predict(X_train))\n",
    "\n",
    "y_true_train = np.expm1(y_train)\n",
    "\n",
    "print(\"RMSLE=\",np.sqrt(mean_squared_log_error(y_true_train,pred_rf_train)))\n",
    "\n",
    "print(\"r2_score=\",r2_score(y_true_train,pred_rf_train))"
   ]
  },
  {
   "cell_type": "code",
   "execution_count": 49,
   "metadata": {},
   "outputs": [
    {
     "data": {
      "text/plain": [
       "[<matplotlib.lines.Line2D at 0x20ed2358d90>]"
      ]
     },
     "execution_count": 49,
     "metadata": {},
     "output_type": "execute_result"
    },
    {
     "data": {
      "image/png": "[encoded data removed]",
      "text/plain": [
       "<Figure size 864x576 with 1 Axes>"
      ]
     },
     "metadata": {
      "needs_background": "light"
     },
     "output_type": "display_data"
    }
   ],
   "source": [
    "#prediction plot\n",
    "plt.figure(figsize=(12,8))\n",
    "plt.scatter(y_true,pred_rf)\n",
    "plt.plot(y_true,y_true,'r')"
   ]
  },
  {
   "cell_type": "markdown",
   "metadata": {},
   "source": [
    "<b>Train the high"
   ]
  },
  {
   "cell_type": "code",
   "execution_count": 50,
   "metadata": {},
   "outputs": [],
   "source": [
    "#Divide the data into Feature and Label component\n",
    "\n",
    "X = df_hi.drop(['time_spent'],axis=1).values \n",
    "y = np.log1p(df_hi['time_spent'].values) #taking log of UnitPrice for the skewed value"
   ]
  },
  {
   "cell_type": "code",
   "execution_count": 51,
   "metadata": {},
   "outputs": [],
   "source": [
    "#saving column names as features\n",
    "feature = df_hi.drop(['time_spent'],axis=1).columns"
   ]
  },
  {
   "cell_type": "code",
   "execution_count": 52,
   "metadata": {},
   "outputs": [],
   "source": [
    "#split the data in train and test sets\n",
    "\n",
    "from sklearn.model_selection import train_test_split\n",
    "X_train, X_test, y_train, y_test = train_test_split(X, y, test_size=0.20,random_state=42)"
   ]
  },
  {
   "cell_type": "code",
   "execution_count": 53,
   "metadata": {},
   "outputs": [],
   "source": [
    "#scale the data\n",
    "\n",
    "from sklearn.preprocessing import MinMaxScaler\n",
    "scaler = MinMaxScaler()\n",
    "\n",
    "\n",
    "X_train = scaler.fit_transform(X_train)\n",
    "X_test = scaler.transform(X_test)"
   ]
  },
  {
   "cell_type": "markdown",
   "metadata": {},
   "source": [
    "<h3>Random Forest"
   ]
  },
  {
   "cell_type": "code",
   "execution_count": 54,
   "metadata": {},
   "outputs": [
    {
     "data": {
      "text/plain": [
       "GridSearchCV(cv=5, estimator=RandomForestRegressor(),\n",
       "             param_grid={'max_depth': [7, 8, 9],\n",
       "                         'n_estimators': [150, 170, 190]})"
      ]
     },
     "execution_count": 54,
     "metadata": {},
     "output_type": "execute_result"
    }
   ],
   "source": [
    "rf = RandomForestRegressor()\n",
    "parameters = {\n",
    "    'n_estimators': [150, 170,190],\n",
    "    'max_depth': [7, 8, 9]\n",
    "}\n",
    "\n",
    "rf_cv = GridSearchCV(rf, parameters, cv=5)\n",
    "rf_cv.fit(X_train, y_train)"
   ]
  },
  {
   "cell_type": "code",
   "execution_count": 55,
   "metadata": {},
   "outputs": [
    {
     "data": {
      "text/plain": [
       "{'max_depth': 7, 'n_estimators': 170}"
      ]
     },
     "execution_count": 55,
     "metadata": {},
     "output_type": "execute_result"
    }
   ],
   "source": [
    "#best parameters\n",
    "\n",
    "rf_cv.best_params_"
   ]
  },
  {
   "cell_type": "code",
   "execution_count": 56,
   "metadata": {},
   "outputs": [
    {
     "name": "stdout",
     "output_type": "stream",
     "text": [
      "RMSLE= 0.9807519668904149\n",
      "r2_score= 0.4653698559920515\n"
     ]
    }
   ],
   "source": [
    "#Test set r2 and RMSLE\n",
    "\n",
    "model_rf2 = RandomForestRegressor(max_depth=7,n_estimators=150)\n",
    "\n",
    "model_rf2.fit(X_train,y_train)\n",
    "\n",
    "pred_rf = np.expm1(model_rf2.predict(X_test)) #prediction (exponential taken as it was log term)\n",
    "\n",
    "y_true = np.expm1(y_test)  #original y_test\n",
    "\n",
    "print(\"RMSLE=\",np.sqrt(mean_squared_log_error(y_true,pred_rf)))\n",
    "print(\"r2_score=\",r2_score(y_true,pred_rf))"
   ]
  },
  {
   "cell_type": "code",
   "execution_count": 57,
   "metadata": {},
   "outputs": [
    {
     "name": "stdout",
     "output_type": "stream",
     "text": [
      "RMSLE= 0.9369065293895887\n",
      "r2_score= 0.48284934539019586\n"
     ]
    }
   ],
   "source": [
    "#Train set r2 and RMSLE\n",
    "\n",
    "pred_rf_train = np.expm1(model_rf2.predict(X_train))\n",
    "\n",
    "y_true_train = np.expm1(y_train)\n",
    "\n",
    "print(\"RMSLE=\",np.sqrt(mean_squared_log_error(y_true_train,pred_rf_train)))\n",
    "\n",
    "print(\"r2_score=\",r2_score(y_true_train,pred_rf_train))"
   ]
  },
  {
   "cell_type": "code",
   "execution_count": 58,
   "metadata": {},
   "outputs": [
    {
     "data": {
      "text/plain": [
       "[<matplotlib.lines.Line2D at 0x20ed23abf10>]"
      ]
     },
     "execution_count": 58,
     "metadata": {},
     "output_type": "execute_result"
    },
    {
     "data": {
      "image/png": "[encoded data removed]",
      "text/plain": [
       "<Figure size 864x576 with 1 Axes>"
      ]
     },
     "metadata": {
      "needs_background": "light"
     },
     "output_type": "display_data"
    }
   ],
   "source": [
    "#prediction plot\n",
    "plt.figure(figsize=(12,8))\n",
    "plt.scatter(y_true,pred_rf)\n",
    "plt.plot(y_true,y_true,'r')"
   ]
  },
  {
   "cell_type": "markdown",
   "metadata": {},
   "source": [
    "<b>In final prediction, we obtain prediction from both training models and take the average of them as final result"
   ]
  },
  {
   "cell_type": "code",
   "execution_count": 59,
   "metadata": {},
   "outputs": [],
   "source": [
    "pred_final1 = np.expm1(model_rf1.predict(x1_test))\n",
    "pred_final2 = np.expm1(model_rf2.predict(x1_test))\n",
    "\n",
    "\n",
    "pred_csv = pd.DataFrame(pred_final1,columns=['time_spent1'])\n",
    "pred_csv ['time_spent2'] = pred_final2\n",
    "pred_csv['time_spent'] = (pred_csv['time_spent1'] + pred_csv['time_spent2'])/2\n",
    "pred_csv.drop(['time_spent1','time_spent2'],axis=1,inplace=True)\n",
    "pred_csv.to_csv('prediction11.csv', index = False)"
   ]
  },
  {
   "cell_type": "markdown",
   "metadata": {},
   "source": [
    "<b>Conclusion :<b> We have observed that in the data some devices spend more time than others, so, we break the dataset in high time spending and low time spendig, train our model with both dataset separately and make prediction from both and take mean of it. "
   ]
  }
 ],
 "metadata": {
  "kernelspec": {
   "display_name": "Python 3",
   "language": "python",
   "name": "python3"
  },
  "language_info": {
   "codemirror_mode": {
    "name": "ipython",
    "version": 3
   },
   "file_extension": ".py",
   "mimetype": "text/x-python",
   "name": "python",
   "nbconvert_exporter": "python",
   "pygments_lexer": "ipython3",
   "version": "3.8.3"
  }
 },
 "nbformat": 4,
 "nbformat_minor": 4
}
